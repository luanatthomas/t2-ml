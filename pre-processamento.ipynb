{
 "cells": [
  {
   "cell_type": "code",
   "execution_count": 32,
   "id": "172fbe6b",
   "metadata": {
    "_cell_guid": "b1076dfc-b9ad-4769-8c92-a6c4dae69d19",
    "_uuid": "8f2839f25d086af736a60e9eeb907d3b93b6e0e5",
    "execution": {
     "iopub.execute_input": "2024-11-12T21:33:45.474538Z",
     "iopub.status.busy": "2024-11-12T21:33:45.473831Z",
     "iopub.status.idle": "2024-11-12T21:33:46.259688Z",
     "shell.execute_reply": "2024-11-12T21:33:46.258556Z"
    },
    "papermill": {
     "duration": 0.795593,
     "end_time": "2024-11-12T21:33:46.262076",
     "exception": false,
     "start_time": "2024-11-12T21:33:45.466483",
     "status": "completed"
    },
    "tags": []
   },
   "outputs": [],
   "source": [
    "import pandas as pd \n",
    "\n",
    "import os\n",
    "for dirname, _, filenames in os.walk('/kaggle/input'):\n",
    "    for filename in filenames:\n",
    "        print(os.path.join(dirname, filename))\n",
    "\n",
    "import warnings\n",
    "warnings.filterwarnings(\"ignore\")\n"
   ]
  },
  {
   "cell_type": "code",
   "execution_count": 18,
   "id": "7273850c",
   "metadata": {
    "execution": {
     "iopub.execute_input": "2024-11-12T21:33:46.274327Z",
     "iopub.status.busy": "2024-11-12T21:33:46.273854Z",
     "iopub.status.idle": "2024-11-12T21:34:02.322795Z",
     "shell.execute_reply": "2024-11-12T21:34:02.321632Z"
    },
    "papermill": {
     "duration": 16.057804,
     "end_time": "2024-11-12T21:34:02.325331",
     "exception": false,
     "start_time": "2024-11-12T21:33:46.267527",
     "status": "completed"
    },
    "tags": []
   },
   "outputs": [],
   "source": [
    "import urllib.request\n",
    "import zipfile\n",
    "import os\n",
    "\n",
    "url = 'https://cs.stanford.edu/people/alecmgo/trainingandtestdata.zip'\n",
    "zip_path = 'datasets/trainingandtestdata.zip'\n",
    "urllib.request.urlretrieve(url, zip_path)\n",
    "\n",
    "with zipfile.ZipFile(zip_path, 'r') as zip_ref:\n",
    "    zip_ref.extractall(\"./datasets\")\n",
    "\n",
    "os.remove(zip_path)"
   ]
  },
  {
   "cell_type": "code",
   "execution_count": 19,
   "id": "636eca2d",
   "metadata": {
    "execution": {
     "iopub.execute_input": "2024-11-12T21:34:02.343979Z",
     "iopub.status.busy": "2024-11-12T21:34:02.343491Z",
     "iopub.status.idle": "2024-11-12T21:34:06.897407Z",
     "shell.execute_reply": "2024-11-12T21:34:06.896288Z"
    },
    "papermill": {
     "duration": 4.565915,
     "end_time": "2024-11-12T21:34:06.899823",
     "exception": false,
     "start_time": "2024-11-12T21:34:02.333908",
     "status": "completed"
    },
    "tags": []
   },
   "outputs": [
    {
     "name": "stdout",
     "output_type": "stream",
     "text": [
      "<class 'pandas.core.frame.DataFrame'>\n",
      "RangeIndex: 1600000 entries, 0 to 1599999\n",
      "Data columns (total 6 columns):\n",
      " #   Column        Non-Null Count    Dtype \n",
      "---  ------        --------------    ----- \n",
      " 0   sentiment     1600000 non-null  int64 \n",
      " 1   id            1600000 non-null  int64 \n",
      " 2   date          1600000 non-null  object\n",
      " 3   query_string  1600000 non-null  object\n",
      " 4   user          1600000 non-null  object\n",
      " 5   text          1600000 non-null  object\n",
      "dtypes: int64(2), object(4)\n",
      "memory usage: 73.2+ MB\n"
     ]
    }
   ],
   "source": [
    "cols = ['sentiment','id','date','query_string','user','text']\n",
    "df = pd.read_csv('datasets/training.1600000.processed.noemoticon.csv',\n",
    "                        header=None, names=cols,encoding=\"latin-1\")\n",
    "df.info()"
   ]
  },
  {
   "cell_type": "code",
   "execution_count": 20,
   "id": "727fa847",
   "metadata": {
    "execution": {
     "iopub.execute_input": "2024-11-12T21:34:06.918418Z",
     "iopub.status.busy": "2024-11-12T21:34:06.917472Z",
     "iopub.status.idle": "2024-11-12T21:34:06.939135Z",
     "shell.execute_reply": "2024-11-12T21:34:06.937991Z"
    },
    "papermill": {
     "duration": 0.033232,
     "end_time": "2024-11-12T21:34:06.941343",
     "exception": false,
     "start_time": "2024-11-12T21:34:06.908111",
     "status": "completed"
    },
    "tags": []
   },
   "outputs": [
    {
     "data": {
      "text/html": [
       "<div>\n",
       "<style scoped>\n",
       "    .dataframe tbody tr th:only-of-type {\n",
       "        vertical-align: middle;\n",
       "    }\n",
       "\n",
       "    .dataframe tbody tr th {\n",
       "        vertical-align: top;\n",
       "    }\n",
       "\n",
       "    .dataframe thead th {\n",
       "        text-align: right;\n",
       "    }\n",
       "</style>\n",
       "<table border=\"1\" class=\"dataframe\">\n",
       "  <thead>\n",
       "    <tr style=\"text-align: right;\">\n",
       "      <th></th>\n",
       "      <th>sentiment</th>\n",
       "      <th>id</th>\n",
       "      <th>date</th>\n",
       "      <th>query_string</th>\n",
       "      <th>user</th>\n",
       "      <th>text</th>\n",
       "    </tr>\n",
       "  </thead>\n",
       "  <tbody>\n",
       "    <tr>\n",
       "      <th>0</th>\n",
       "      <td>0</td>\n",
       "      <td>1467810369</td>\n",
       "      <td>Mon Apr 06 22:19:45 PDT 2009</td>\n",
       "      <td>NO_QUERY</td>\n",
       "      <td>_TheSpecialOne_</td>\n",
       "      <td>@switchfoot http://twitpic.com/2y1zl - Awww, t...</td>\n",
       "    </tr>\n",
       "    <tr>\n",
       "      <th>1</th>\n",
       "      <td>0</td>\n",
       "      <td>1467810672</td>\n",
       "      <td>Mon Apr 06 22:19:49 PDT 2009</td>\n",
       "      <td>NO_QUERY</td>\n",
       "      <td>scotthamilton</td>\n",
       "      <td>is upset that he can't update his Facebook by ...</td>\n",
       "    </tr>\n",
       "    <tr>\n",
       "      <th>2</th>\n",
       "      <td>0</td>\n",
       "      <td>1467810917</td>\n",
       "      <td>Mon Apr 06 22:19:53 PDT 2009</td>\n",
       "      <td>NO_QUERY</td>\n",
       "      <td>mattycus</td>\n",
       "      <td>@Kenichan I dived many times for the ball. Man...</td>\n",
       "    </tr>\n",
       "    <tr>\n",
       "      <th>3</th>\n",
       "      <td>0</td>\n",
       "      <td>1467811184</td>\n",
       "      <td>Mon Apr 06 22:19:57 PDT 2009</td>\n",
       "      <td>NO_QUERY</td>\n",
       "      <td>ElleCTF</td>\n",
       "      <td>my whole body feels itchy and like its on fire</td>\n",
       "    </tr>\n",
       "    <tr>\n",
       "      <th>4</th>\n",
       "      <td>0</td>\n",
       "      <td>1467811193</td>\n",
       "      <td>Mon Apr 06 22:19:57 PDT 2009</td>\n",
       "      <td>NO_QUERY</td>\n",
       "      <td>Karoli</td>\n",
       "      <td>@nationwideclass no, it's not behaving at all....</td>\n",
       "    </tr>\n",
       "    <tr>\n",
       "      <th>...</th>\n",
       "      <td>...</td>\n",
       "      <td>...</td>\n",
       "      <td>...</td>\n",
       "      <td>...</td>\n",
       "      <td>...</td>\n",
       "      <td>...</td>\n",
       "    </tr>\n",
       "    <tr>\n",
       "      <th>1599995</th>\n",
       "      <td>4</td>\n",
       "      <td>2193601966</td>\n",
       "      <td>Tue Jun 16 08:40:49 PDT 2009</td>\n",
       "      <td>NO_QUERY</td>\n",
       "      <td>AmandaMarie1028</td>\n",
       "      <td>Just woke up. Having no school is the best fee...</td>\n",
       "    </tr>\n",
       "    <tr>\n",
       "      <th>1599996</th>\n",
       "      <td>4</td>\n",
       "      <td>2193601969</td>\n",
       "      <td>Tue Jun 16 08:40:49 PDT 2009</td>\n",
       "      <td>NO_QUERY</td>\n",
       "      <td>TheWDBoards</td>\n",
       "      <td>TheWDB.com - Very cool to hear old Walt interv...</td>\n",
       "    </tr>\n",
       "    <tr>\n",
       "      <th>1599997</th>\n",
       "      <td>4</td>\n",
       "      <td>2193601991</td>\n",
       "      <td>Tue Jun 16 08:40:49 PDT 2009</td>\n",
       "      <td>NO_QUERY</td>\n",
       "      <td>bpbabe</td>\n",
       "      <td>Are you ready for your MoJo Makeover? Ask me f...</td>\n",
       "    </tr>\n",
       "    <tr>\n",
       "      <th>1599998</th>\n",
       "      <td>4</td>\n",
       "      <td>2193602064</td>\n",
       "      <td>Tue Jun 16 08:40:49 PDT 2009</td>\n",
       "      <td>NO_QUERY</td>\n",
       "      <td>tinydiamondz</td>\n",
       "      <td>Happy 38th Birthday to my boo of alll time!!! ...</td>\n",
       "    </tr>\n",
       "    <tr>\n",
       "      <th>1599999</th>\n",
       "      <td>4</td>\n",
       "      <td>2193602129</td>\n",
       "      <td>Tue Jun 16 08:40:50 PDT 2009</td>\n",
       "      <td>NO_QUERY</td>\n",
       "      <td>RyanTrevMorris</td>\n",
       "      <td>happy #charitytuesday @theNSPCC @SparksCharity...</td>\n",
       "    </tr>\n",
       "  </tbody>\n",
       "</table>\n",
       "<p>1600000 rows × 6 columns</p>\n",
       "</div>"
      ],
      "text/plain": [
       "         sentiment          id                          date query_string  \\\n",
       "0                0  1467810369  Mon Apr 06 22:19:45 PDT 2009     NO_QUERY   \n",
       "1                0  1467810672  Mon Apr 06 22:19:49 PDT 2009     NO_QUERY   \n",
       "2                0  1467810917  Mon Apr 06 22:19:53 PDT 2009     NO_QUERY   \n",
       "3                0  1467811184  Mon Apr 06 22:19:57 PDT 2009     NO_QUERY   \n",
       "4                0  1467811193  Mon Apr 06 22:19:57 PDT 2009     NO_QUERY   \n",
       "...            ...         ...                           ...          ...   \n",
       "1599995          4  2193601966  Tue Jun 16 08:40:49 PDT 2009     NO_QUERY   \n",
       "1599996          4  2193601969  Tue Jun 16 08:40:49 PDT 2009     NO_QUERY   \n",
       "1599997          4  2193601991  Tue Jun 16 08:40:49 PDT 2009     NO_QUERY   \n",
       "1599998          4  2193602064  Tue Jun 16 08:40:49 PDT 2009     NO_QUERY   \n",
       "1599999          4  2193602129  Tue Jun 16 08:40:50 PDT 2009     NO_QUERY   \n",
       "\n",
       "                    user                                               text  \n",
       "0        _TheSpecialOne_  @switchfoot http://twitpic.com/2y1zl - Awww, t...  \n",
       "1          scotthamilton  is upset that he can't update his Facebook by ...  \n",
       "2               mattycus  @Kenichan I dived many times for the ball. Man...  \n",
       "3                ElleCTF    my whole body feels itchy and like its on fire   \n",
       "4                 Karoli  @nationwideclass no, it's not behaving at all....  \n",
       "...                  ...                                                ...  \n",
       "1599995  AmandaMarie1028  Just woke up. Having no school is the best fee...  \n",
       "1599996      TheWDBoards  TheWDB.com - Very cool to hear old Walt interv...  \n",
       "1599997           bpbabe  Are you ready for your MoJo Makeover? Ask me f...  \n",
       "1599998     tinydiamondz  Happy 38th Birthday to my boo of alll time!!! ...  \n",
       "1599999   RyanTrevMorris  happy #charitytuesday @theNSPCC @SparksCharity...  \n",
       "\n",
       "[1600000 rows x 6 columns]"
      ]
     },
     "execution_count": 20,
     "metadata": {},
     "output_type": "execute_result"
    }
   ],
   "source": [
    "df"
   ]
  },
  {
   "cell_type": "code",
   "execution_count": 21,
   "id": "a6a31967",
   "metadata": {
    "execution": {
     "iopub.execute_input": "2024-11-12T21:34:06.960752Z",
     "iopub.status.busy": "2024-11-12T21:34:06.960368Z",
     "iopub.status.idle": "2024-11-12T21:34:06.996632Z",
     "shell.execute_reply": "2024-11-12T21:34:06.995621Z"
    },
    "papermill": {
     "duration": 0.048236,
     "end_time": "2024-11-12T21:34:06.999100",
     "exception": false,
     "start_time": "2024-11-12T21:34:06.950864",
     "status": "completed"
    },
    "tags": []
   },
   "outputs": [],
   "source": [
    "df = df[['sentiment', 'text']]"
   ]
  },
  {
   "cell_type": "code",
   "execution_count": 22,
   "id": "7210edfe",
   "metadata": {
    "execution": {
     "iopub.execute_input": "2024-11-12T21:34:07.017620Z",
     "iopub.status.busy": "2024-11-12T21:34:07.017210Z",
     "iopub.status.idle": "2024-11-12T21:34:07.048267Z",
     "shell.execute_reply": "2024-11-12T21:34:07.046949Z"
    },
    "papermill": {
     "duration": 0.04275,
     "end_time": "2024-11-12T21:34:07.050447",
     "exception": false,
     "start_time": "2024-11-12T21:34:07.007697",
     "status": "completed"
    },
    "tags": []
   },
   "outputs": [],
   "source": [
    "df['sentiment'] = df['sentiment'].map({0: 0, 4: 1})"
   ]
  },
  {
   "cell_type": "code",
   "execution_count": 23,
   "id": "9e689984",
   "metadata": {
    "execution": {
     "iopub.execute_input": "2024-11-12T21:34:07.068855Z",
     "iopub.status.busy": "2024-11-12T21:34:07.068463Z",
     "iopub.status.idle": "2024-11-12T21:34:07.079742Z",
     "shell.execute_reply": "2024-11-12T21:34:07.078693Z"
    },
    "papermill": {
     "duration": 0.022823,
     "end_time": "2024-11-12T21:34:07.081849",
     "exception": false,
     "start_time": "2024-11-12T21:34:07.059026",
     "status": "completed"
    },
    "tags": []
   },
   "outputs": [
    {
     "data": {
      "text/html": [
       "<div>\n",
       "<style scoped>\n",
       "    .dataframe tbody tr th:only-of-type {\n",
       "        vertical-align: middle;\n",
       "    }\n",
       "\n",
       "    .dataframe tbody tr th {\n",
       "        vertical-align: top;\n",
       "    }\n",
       "\n",
       "    .dataframe thead th {\n",
       "        text-align: right;\n",
       "    }\n",
       "</style>\n",
       "<table border=\"1\" class=\"dataframe\">\n",
       "  <thead>\n",
       "    <tr style=\"text-align: right;\">\n",
       "      <th></th>\n",
       "      <th>sentiment</th>\n",
       "      <th>text</th>\n",
       "    </tr>\n",
       "  </thead>\n",
       "  <tbody>\n",
       "    <tr>\n",
       "      <th>0</th>\n",
       "      <td>0</td>\n",
       "      <td>@switchfoot http://twitpic.com/2y1zl - Awww, t...</td>\n",
       "    </tr>\n",
       "    <tr>\n",
       "      <th>1</th>\n",
       "      <td>0</td>\n",
       "      <td>is upset that he can't update his Facebook by ...</td>\n",
       "    </tr>\n",
       "    <tr>\n",
       "      <th>2</th>\n",
       "      <td>0</td>\n",
       "      <td>@Kenichan I dived many times for the ball. Man...</td>\n",
       "    </tr>\n",
       "    <tr>\n",
       "      <th>3</th>\n",
       "      <td>0</td>\n",
       "      <td>my whole body feels itchy and like its on fire</td>\n",
       "    </tr>\n",
       "    <tr>\n",
       "      <th>4</th>\n",
       "      <td>0</td>\n",
       "      <td>@nationwideclass no, it's not behaving at all....</td>\n",
       "    </tr>\n",
       "    <tr>\n",
       "      <th>...</th>\n",
       "      <td>...</td>\n",
       "      <td>...</td>\n",
       "    </tr>\n",
       "    <tr>\n",
       "      <th>1599995</th>\n",
       "      <td>1</td>\n",
       "      <td>Just woke up. Having no school is the best fee...</td>\n",
       "    </tr>\n",
       "    <tr>\n",
       "      <th>1599996</th>\n",
       "      <td>1</td>\n",
       "      <td>TheWDB.com - Very cool to hear old Walt interv...</td>\n",
       "    </tr>\n",
       "    <tr>\n",
       "      <th>1599997</th>\n",
       "      <td>1</td>\n",
       "      <td>Are you ready for your MoJo Makeover? Ask me f...</td>\n",
       "    </tr>\n",
       "    <tr>\n",
       "      <th>1599998</th>\n",
       "      <td>1</td>\n",
       "      <td>Happy 38th Birthday to my boo of alll time!!! ...</td>\n",
       "    </tr>\n",
       "    <tr>\n",
       "      <th>1599999</th>\n",
       "      <td>1</td>\n",
       "      <td>happy #charitytuesday @theNSPCC @SparksCharity...</td>\n",
       "    </tr>\n",
       "  </tbody>\n",
       "</table>\n",
       "<p>1600000 rows × 2 columns</p>\n",
       "</div>"
      ],
      "text/plain": [
       "         sentiment                                               text\n",
       "0                0  @switchfoot http://twitpic.com/2y1zl - Awww, t...\n",
       "1                0  is upset that he can't update his Facebook by ...\n",
       "2                0  @Kenichan I dived many times for the ball. Man...\n",
       "3                0    my whole body feels itchy and like its on fire \n",
       "4                0  @nationwideclass no, it's not behaving at all....\n",
       "...            ...                                                ...\n",
       "1599995          1  Just woke up. Having no school is the best fee...\n",
       "1599996          1  TheWDB.com - Very cool to hear old Walt interv...\n",
       "1599997          1  Are you ready for your MoJo Makeover? Ask me f...\n",
       "1599998          1  Happy 38th Birthday to my boo of alll time!!! ...\n",
       "1599999          1  happy #charitytuesday @theNSPCC @SparksCharity...\n",
       "\n",
       "[1600000 rows x 2 columns]"
      ]
     },
     "execution_count": 23,
     "metadata": {},
     "output_type": "execute_result"
    }
   ],
   "source": [
    "df"
   ]
  },
  {
   "cell_type": "code",
   "execution_count": 24,
   "id": "e7132aea",
   "metadata": {
    "execution": {
     "iopub.execute_input": "2024-11-12T21:34:07.100749Z",
     "iopub.status.busy": "2024-11-12T21:34:07.100373Z",
     "iopub.status.idle": "2024-11-12T21:34:30.557532Z",
     "shell.execute_reply": "2024-11-12T21:34:30.556480Z"
    },
    "papermill": {
     "duration": 23.469432,
     "end_time": "2024-11-12T21:34:30.559937",
     "exception": false,
     "start_time": "2024-11-12T21:34:07.090505",
     "status": "completed"
    },
    "tags": []
   },
   "outputs": [],
   "source": [
    "import re\n",
    "\n",
    "def clean_text(text, preserve_emoticons=False):\n",
    "    text = text.lower()  # Transformar em minúsculas\n",
    "    text = re.sub(r\"http\\S+|www\\S+|https\\S+\", '', text, flags=re.MULTILINE)  # Remover URLs\n",
    "    text = re.sub(r'\\@\\w+|\\#', '', text)  # Remover menções e hashtags\n",
    "    \n",
    "    if preserve_emoticons:\n",
    "        # Manter emoticons específicos e remover outros caracteres especiais\n",
    "        text = re.sub(r\"[^\\w\\s:;)(><'-]\", '', text)\n",
    "    else:\n",
    "        # Remover caracteres especiais e pontuação\n",
    "        text = re.sub(r\"[^\\w\\s]\", '', text)\n",
    "    \n",
    "    return text\n",
    "\n",
    "df['cleaned_text'] = df['text'].apply(lambda x: clean_text(x))\n",
    "df['cleaned_text_with_emoticons'] = df['text'].apply(lambda x: clean_text(x, preserve_emoticons=True))\n"
   ]
  },
  {
   "cell_type": "code",
   "execution_count": 25,
   "id": "f84bf840",
   "metadata": {
    "execution": {
     "iopub.execute_input": "2024-11-12T21:34:30.579344Z",
     "iopub.status.busy": "2024-11-12T21:34:30.578987Z",
     "iopub.status.idle": "2024-11-12T21:34:30.591531Z",
     "shell.execute_reply": "2024-11-12T21:34:30.590488Z"
    },
    "papermill": {
     "duration": 0.024673,
     "end_time": "2024-11-12T21:34:30.593716",
     "exception": false,
     "start_time": "2024-11-12T21:34:30.569043",
     "status": "completed"
    },
    "tags": []
   },
   "outputs": [
    {
     "data": {
      "text/html": [
       "<div>\n",
       "<style scoped>\n",
       "    .dataframe tbody tr th:only-of-type {\n",
       "        vertical-align: middle;\n",
       "    }\n",
       "\n",
       "    .dataframe tbody tr th {\n",
       "        vertical-align: top;\n",
       "    }\n",
       "\n",
       "    .dataframe thead th {\n",
       "        text-align: right;\n",
       "    }\n",
       "</style>\n",
       "<table border=\"1\" class=\"dataframe\">\n",
       "  <thead>\n",
       "    <tr style=\"text-align: right;\">\n",
       "      <th></th>\n",
       "      <th>sentiment</th>\n",
       "      <th>text</th>\n",
       "      <th>cleaned_text</th>\n",
       "      <th>cleaned_text_with_emoticons</th>\n",
       "    </tr>\n",
       "  </thead>\n",
       "  <tbody>\n",
       "    <tr>\n",
       "      <th>0</th>\n",
       "      <td>0</td>\n",
       "      <td>@switchfoot http://twitpic.com/2y1zl - Awww, t...</td>\n",
       "      <td>a thats a bummer  you shoulda got david car...</td>\n",
       "      <td>- a that's a bummer  you shoulda got david c...</td>\n",
       "    </tr>\n",
       "    <tr>\n",
       "      <th>1</th>\n",
       "      <td>0</td>\n",
       "      <td>is upset that he can't update his Facebook by ...</td>\n",
       "      <td>is upset that he cant update his facebook by t...</td>\n",
       "      <td>is upset that he can't update his facebook by ...</td>\n",
       "    </tr>\n",
       "    <tr>\n",
       "      <th>2</th>\n",
       "      <td>0</td>\n",
       "      <td>@Kenichan I dived many times for the ball. Man...</td>\n",
       "      <td>i dived many times for the ball managed to sa...</td>\n",
       "      <td>i dived many times for the ball managed to sa...</td>\n",
       "    </tr>\n",
       "    <tr>\n",
       "      <th>3</th>\n",
       "      <td>0</td>\n",
       "      <td>my whole body feels itchy and like its on fire</td>\n",
       "      <td>my whole body feels itchy and like its on fire</td>\n",
       "      <td>my whole body feels itchy and like its on fire</td>\n",
       "    </tr>\n",
       "    <tr>\n",
       "      <th>4</th>\n",
       "      <td>0</td>\n",
       "      <td>@nationwideclass no, it's not behaving at all....</td>\n",
       "      <td>no its not behaving at all im mad why am i he...</td>\n",
       "      <td>no it's not behaving at all i'm mad why am i ...</td>\n",
       "    </tr>\n",
       "    <tr>\n",
       "      <th>...</th>\n",
       "      <td>...</td>\n",
       "      <td>...</td>\n",
       "      <td>...</td>\n",
       "      <td>...</td>\n",
       "    </tr>\n",
       "    <tr>\n",
       "      <th>1599995</th>\n",
       "      <td>1</td>\n",
       "      <td>Just woke up. Having no school is the best fee...</td>\n",
       "      <td>just woke up having no school is the best feel...</td>\n",
       "      <td>just woke up having no school is the best feel...</td>\n",
       "    </tr>\n",
       "    <tr>\n",
       "      <th>1599996</th>\n",
       "      <td>1</td>\n",
       "      <td>TheWDB.com - Very cool to hear old Walt interv...</td>\n",
       "      <td>thewdbcom  very cool to hear old walt intervie...</td>\n",
       "      <td>thewdbcom - very cool to hear old walt intervi...</td>\n",
       "    </tr>\n",
       "    <tr>\n",
       "      <th>1599997</th>\n",
       "      <td>1</td>\n",
       "      <td>Are you ready for your MoJo Makeover? Ask me f...</td>\n",
       "      <td>are you ready for your mojo makeover ask me fo...</td>\n",
       "      <td>are you ready for your mojo makeover ask me fo...</td>\n",
       "    </tr>\n",
       "    <tr>\n",
       "      <th>1599998</th>\n",
       "      <td>1</td>\n",
       "      <td>Happy 38th Birthday to my boo of alll time!!! ...</td>\n",
       "      <td>happy 38th birthday to my boo of alll time tup...</td>\n",
       "      <td>happy 38th birthday to my boo of alll time tup...</td>\n",
       "    </tr>\n",
       "    <tr>\n",
       "      <th>1599999</th>\n",
       "      <td>1</td>\n",
       "      <td>happy #charitytuesday @theNSPCC @SparksCharity...</td>\n",
       "      <td>happy charitytuesday</td>\n",
       "      <td>happy charitytuesday</td>\n",
       "    </tr>\n",
       "  </tbody>\n",
       "</table>\n",
       "<p>1600000 rows × 4 columns</p>\n",
       "</div>"
      ],
      "text/plain": [
       "         sentiment                                               text  \\\n",
       "0                0  @switchfoot http://twitpic.com/2y1zl - Awww, t...   \n",
       "1                0  is upset that he can't update his Facebook by ...   \n",
       "2                0  @Kenichan I dived many times for the ball. Man...   \n",
       "3                0    my whole body feels itchy and like its on fire    \n",
       "4                0  @nationwideclass no, it's not behaving at all....   \n",
       "...            ...                                                ...   \n",
       "1599995          1  Just woke up. Having no school is the best fee...   \n",
       "1599996          1  TheWDB.com - Very cool to hear old Walt interv...   \n",
       "1599997          1  Are you ready for your MoJo Makeover? Ask me f...   \n",
       "1599998          1  Happy 38th Birthday to my boo of alll time!!! ...   \n",
       "1599999          1  happy #charitytuesday @theNSPCC @SparksCharity...   \n",
       "\n",
       "                                              cleaned_text  \\\n",
       "0           a thats a bummer  you shoulda got david car...   \n",
       "1        is upset that he cant update his facebook by t...   \n",
       "2         i dived many times for the ball managed to sa...   \n",
       "3          my whole body feels itchy and like its on fire    \n",
       "4         no its not behaving at all im mad why am i he...   \n",
       "...                                                    ...   \n",
       "1599995  just woke up having no school is the best feel...   \n",
       "1599996  thewdbcom  very cool to hear old walt intervie...   \n",
       "1599997  are you ready for your mojo makeover ask me fo...   \n",
       "1599998  happy 38th birthday to my boo of alll time tup...   \n",
       "1599999                           happy charitytuesday       \n",
       "\n",
       "                               cleaned_text_with_emoticons  \n",
       "0          - a that's a bummer  you shoulda got david c...  \n",
       "1        is upset that he can't update his facebook by ...  \n",
       "2         i dived many times for the ball managed to sa...  \n",
       "3          my whole body feels itchy and like its on fire   \n",
       "4         no it's not behaving at all i'm mad why am i ...  \n",
       "...                                                    ...  \n",
       "1599995  just woke up having no school is the best feel...  \n",
       "1599996  thewdbcom - very cool to hear old walt intervi...  \n",
       "1599997  are you ready for your mojo makeover ask me fo...  \n",
       "1599998  happy 38th birthday to my boo of alll time tup...  \n",
       "1599999                           happy charitytuesday      \n",
       "\n",
       "[1600000 rows x 4 columns]"
      ]
     },
     "execution_count": 25,
     "metadata": {},
     "output_type": "execute_result"
    }
   ],
   "source": [
    "df"
   ]
  },
  {
   "cell_type": "code",
   "execution_count": 26,
   "id": "64aae537",
   "metadata": {
    "execution": {
     "iopub.execute_input": "2024-11-12T21:34:30.613261Z",
     "iopub.status.busy": "2024-11-12T21:34:30.612908Z",
     "iopub.status.idle": "2024-11-12T21:34:30.619565Z",
     "shell.execute_reply": "2024-11-12T21:34:30.618620Z"
    },
    "papermill": {
     "duration": 0.018868,
     "end_time": "2024-11-12T21:34:30.621651",
     "exception": false,
     "start_time": "2024-11-12T21:34:30.602783",
     "status": "completed"
    },
    "tags": []
   },
   "outputs": [
    {
     "name": "stdout",
     "output_type": "stream",
     "text": [
      "@switchfoot http://twitpic.com/2y1zl - Awww, that's a bummer.  You shoulda got David Carr of Third Day to do it. ;D\n",
      "   a thats a bummer  you shoulda got david carr of third day to do it d\n",
      "  - a that's a bummer  you shoulda got david carr of third day to do it ;d\n"
     ]
    }
   ],
   "source": [
    "print(df.iloc[0].text)\n",
    "print(df.iloc[0].cleaned_text)\n",
    "print(df.iloc[0].cleaned_text_with_emoticons)"
   ]
  },
  {
   "cell_type": "code",
   "execution_count": 27,
   "id": "ded5c7bf",
   "metadata": {
    "execution": {
     "iopub.execute_input": "2024-11-12T21:34:30.641898Z",
     "iopub.status.busy": "2024-11-12T21:34:30.641282Z",
     "iopub.status.idle": "2024-11-12T21:34:42.729969Z",
     "shell.execute_reply": "2024-11-12T21:34:42.728941Z"
    },
    "papermill": {
     "duration": 12.101179,
     "end_time": "2024-11-12T21:34:42.732147",
     "exception": false,
     "start_time": "2024-11-12T21:34:30.630968",
     "status": "completed"
    },
    "tags": []
   },
   "outputs": [
    {
     "name": "stderr",
     "output_type": "stream",
     "text": [
      "[nltk_data] Downloading package stopwords to\n",
      "[nltk_data]     /Users/luanathomas/nltk_data...\n",
      "[nltk_data]   Package stopwords is already up-to-date!\n"
     ]
    }
   ],
   "source": [
    "import nltk\n",
    "from nltk.corpus import stopwords\n",
    "\n",
    "nltk.download('stopwords')\n",
    "stop_words = set(stopwords.words('english'))\n",
    "\n",
    "df['cleaned_text'] = df['cleaned_text'].apply(lambda x: ' '.join([word for word in x.split() if word not in stop_words]))\n",
    "df['cleaned_text_with_emoticons'] = df['cleaned_text_with_emoticons'].apply(lambda x: ' '.join([word for word in x.split() if word not in stop_words]))\n"
   ]
  },
  {
   "cell_type": "code",
   "execution_count": 28,
   "id": "1112625d",
   "metadata": {
    "execution": {
     "iopub.execute_input": "2024-11-12T21:34:42.754894Z",
     "iopub.status.busy": "2024-11-12T21:34:42.753750Z",
     "iopub.status.idle": "2024-11-12T21:34:42.768038Z",
     "shell.execute_reply": "2024-11-12T21:34:42.767075Z"
    },
    "papermill": {
     "duration": 0.028374,
     "end_time": "2024-11-12T21:34:42.770027",
     "exception": false,
     "start_time": "2024-11-12T21:34:42.741653",
     "status": "completed"
    },
    "tags": []
   },
   "outputs": [
    {
     "data": {
      "text/html": [
       "<div>\n",
       "<style scoped>\n",
       "    .dataframe tbody tr th:only-of-type {\n",
       "        vertical-align: middle;\n",
       "    }\n",
       "\n",
       "    .dataframe tbody tr th {\n",
       "        vertical-align: top;\n",
       "    }\n",
       "\n",
       "    .dataframe thead th {\n",
       "        text-align: right;\n",
       "    }\n",
       "</style>\n",
       "<table border=\"1\" class=\"dataframe\">\n",
       "  <thead>\n",
       "    <tr style=\"text-align: right;\">\n",
       "      <th></th>\n",
       "      <th>sentiment</th>\n",
       "      <th>text</th>\n",
       "      <th>cleaned_text</th>\n",
       "      <th>cleaned_text_with_emoticons</th>\n",
       "    </tr>\n",
       "  </thead>\n",
       "  <tbody>\n",
       "    <tr>\n",
       "      <th>0</th>\n",
       "      <td>0</td>\n",
       "      <td>@switchfoot http://twitpic.com/2y1zl - Awww, t...</td>\n",
       "      <td>thats bummer shoulda got david carr third day</td>\n",
       "      <td>- that's bummer shoulda got david carr third d...</td>\n",
       "    </tr>\n",
       "    <tr>\n",
       "      <th>1</th>\n",
       "      <td>0</td>\n",
       "      <td>is upset that he can't update his Facebook by ...</td>\n",
       "      <td>upset cant update facebook texting might cry r...</td>\n",
       "      <td>upset can't update facebook texting might cry ...</td>\n",
       "    </tr>\n",
       "    <tr>\n",
       "      <th>2</th>\n",
       "      <td>0</td>\n",
       "      <td>@Kenichan I dived many times for the ball. Man...</td>\n",
       "      <td>dived many times ball managed save 50 rest go ...</td>\n",
       "      <td>dived many times ball managed save 50 rest go ...</td>\n",
       "    </tr>\n",
       "    <tr>\n",
       "      <th>3</th>\n",
       "      <td>0</td>\n",
       "      <td>my whole body feels itchy and like its on fire</td>\n",
       "      <td>whole body feels itchy like fire</td>\n",
       "      <td>whole body feels itchy like fire</td>\n",
       "    </tr>\n",
       "    <tr>\n",
       "      <th>4</th>\n",
       "      <td>0</td>\n",
       "      <td>@nationwideclass no, it's not behaving at all....</td>\n",
       "      <td>behaving im mad cant see</td>\n",
       "      <td>behaving i'm mad can't see</td>\n",
       "    </tr>\n",
       "    <tr>\n",
       "      <th>...</th>\n",
       "      <td>...</td>\n",
       "      <td>...</td>\n",
       "      <td>...</td>\n",
       "      <td>...</td>\n",
       "    </tr>\n",
       "    <tr>\n",
       "      <th>1599995</th>\n",
       "      <td>1</td>\n",
       "      <td>Just woke up. Having no school is the best fee...</td>\n",
       "      <td>woke school best feeling ever</td>\n",
       "      <td>woke school best feeling ever</td>\n",
       "    </tr>\n",
       "    <tr>\n",
       "      <th>1599996</th>\n",
       "      <td>1</td>\n",
       "      <td>TheWDB.com - Very cool to hear old Walt interv...</td>\n",
       "      <td>thewdbcom cool hear old walt interviews â</td>\n",
       "      <td>thewdbcom - cool hear old walt interviews â</td>\n",
       "    </tr>\n",
       "    <tr>\n",
       "      <th>1599997</th>\n",
       "      <td>1</td>\n",
       "      <td>Are you ready for your MoJo Makeover? Ask me f...</td>\n",
       "      <td>ready mojo makeover ask details</td>\n",
       "      <td>ready mojo makeover ask details</td>\n",
       "    </tr>\n",
       "    <tr>\n",
       "      <th>1599998</th>\n",
       "      <td>1</td>\n",
       "      <td>Happy 38th Birthday to my boo of alll time!!! ...</td>\n",
       "      <td>happy 38th birthday boo alll time tupac amaru ...</td>\n",
       "      <td>happy 38th birthday boo alll time tupac amaru ...</td>\n",
       "    </tr>\n",
       "    <tr>\n",
       "      <th>1599999</th>\n",
       "      <td>1</td>\n",
       "      <td>happy #charitytuesday @theNSPCC @SparksCharity...</td>\n",
       "      <td>happy charitytuesday</td>\n",
       "      <td>happy charitytuesday</td>\n",
       "    </tr>\n",
       "  </tbody>\n",
       "</table>\n",
       "<p>1600000 rows × 4 columns</p>\n",
       "</div>"
      ],
      "text/plain": [
       "         sentiment                                               text  \\\n",
       "0                0  @switchfoot http://twitpic.com/2y1zl - Awww, t...   \n",
       "1                0  is upset that he can't update his Facebook by ...   \n",
       "2                0  @Kenichan I dived many times for the ball. Man...   \n",
       "3                0    my whole body feels itchy and like its on fire    \n",
       "4                0  @nationwideclass no, it's not behaving at all....   \n",
       "...            ...                                                ...   \n",
       "1599995          1  Just woke up. Having no school is the best fee...   \n",
       "1599996          1  TheWDB.com - Very cool to hear old Walt interv...   \n",
       "1599997          1  Are you ready for your MoJo Makeover? Ask me f...   \n",
       "1599998          1  Happy 38th Birthday to my boo of alll time!!! ...   \n",
       "1599999          1  happy #charitytuesday @theNSPCC @SparksCharity...   \n",
       "\n",
       "                                              cleaned_text  \\\n",
       "0            thats bummer shoulda got david carr third day   \n",
       "1        upset cant update facebook texting might cry r...   \n",
       "2        dived many times ball managed save 50 rest go ...   \n",
       "3                         whole body feels itchy like fire   \n",
       "4                                 behaving im mad cant see   \n",
       "...                                                    ...   \n",
       "1599995                      woke school best feeling ever   \n",
       "1599996          thewdbcom cool hear old walt interviews â   \n",
       "1599997                    ready mojo makeover ask details   \n",
       "1599998  happy 38th birthday boo alll time tupac amaru ...   \n",
       "1599999                               happy charitytuesday   \n",
       "\n",
       "                               cleaned_text_with_emoticons  \n",
       "0        - that's bummer shoulda got david carr third d...  \n",
       "1        upset can't update facebook texting might cry ...  \n",
       "2        dived many times ball managed save 50 rest go ...  \n",
       "3                         whole body feels itchy like fire  \n",
       "4                               behaving i'm mad can't see  \n",
       "...                                                    ...  \n",
       "1599995                      woke school best feeling ever  \n",
       "1599996        thewdbcom - cool hear old walt interviews â  \n",
       "1599997                    ready mojo makeover ask details  \n",
       "1599998  happy 38th birthday boo alll time tupac amaru ...  \n",
       "1599999                               happy charitytuesday  \n",
       "\n",
       "[1600000 rows x 4 columns]"
      ]
     },
     "execution_count": 28,
     "metadata": {},
     "output_type": "execute_result"
    }
   ],
   "source": [
    "df"
   ]
  },
  {
   "cell_type": "code",
   "execution_count": 29,
   "id": "ac9c5c2a",
   "metadata": {},
   "outputs": [
    {
     "name": "stdout",
     "output_type": "stream",
     "text": [
      "@switchfoot http://twitpic.com/2y1zl - Awww, that's a bummer.  You shoulda got David Carr of Third Day to do it. ;D\n",
      "thats bummer shoulda got david carr third day\n",
      "- that's bummer shoulda got david carr third day ;d\n"
     ]
    }
   ],
   "source": [
    "print(df.iloc[0].text)\n",
    "print(df.iloc[0].cleaned_text)\n",
    "print(df.iloc[0].cleaned_text_with_emoticons)"
   ]
  },
  {
   "cell_type": "code",
   "execution_count": 30,
   "id": "9b21b73b",
   "metadata": {
    "execution": {
     "iopub.execute_input": "2024-11-12T21:34:42.791094Z",
     "iopub.status.busy": "2024-11-12T21:34:42.790266Z",
     "iopub.status.idle": "2024-11-12T21:34:42.967993Z",
     "shell.execute_reply": "2024-11-12T21:34:42.966861Z"
    },
    "papermill": {
     "duration": 0.190699,
     "end_time": "2024-11-12T21:34:42.970483",
     "exception": false,
     "start_time": "2024-11-12T21:34:42.779784",
     "status": "completed"
    },
    "tags": []
   },
   "outputs": [],
   "source": [
    "df_with_emojis = df[['sentiment', 'cleaned_text_with_emoticons']].rename(columns={'cleaned_text_with_emoticons': 'text'})\n",
    "df_without_emojis = df[['sentiment', 'cleaned_text']].rename(columns={'cleaned_text': 'text'})"
   ]
  },
  {
   "cell_type": "code",
   "execution_count": 31,
   "id": "774459af",
   "metadata": {},
   "outputs": [],
   "source": [
    "df_with_emojis.to_csv('datasets/df_with_emojis.csv', index=False)\n",
    "df_without_emojis.to_csv('datasets/df_without_emojis.csv', index=False)"
   ]
  },
  {
   "cell_type": "code",
   "execution_count": null,
   "id": "4bcc4648",
   "metadata": {},
   "outputs": [],
   "source": []
  },
  {
   "cell_type": "code",
   "execution_count": null,
   "id": "beb0afee",
   "metadata": {},
   "outputs": [],
   "source": []
  }
 ],
 "metadata": {
  "kaggle": {
   "accelerator": "none",
   "dataSources": [],
   "dockerImageVersionId": 30786,
   "isGpuEnabled": false,
   "isInternetEnabled": true,
   "language": "python",
   "sourceType": "notebook"
  },
  "kernelspec": {
   "display_name": "myenv",
   "language": "python",
   "name": "python3"
  },
  "language_info": {
   "codemirror_mode": {
    "name": "ipython",
    "version": 3
   },
   "file_extension": ".py",
   "mimetype": "text/x-python",
   "name": "python",
   "nbconvert_exporter": "python",
   "pygments_lexer": "ipython3",
   "version": "3.12.5"
  },
  "papermill": {
   "default_parameters": {},
   "duration": null,
   "end_time": null,
   "environment_variables": {},
   "exception": null,
   "input_path": "__notebook__.ipynb",
   "output_path": "__notebook__.ipynb",
   "parameters": {},
   "start_time": "2024-11-12T21:33:42.932396",
   "version": "2.6.0"
  }
 },
 "nbformat": 4,
 "nbformat_minor": 5
}
