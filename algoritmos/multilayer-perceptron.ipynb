{
 "cells": [
  {
   "cell_type": "code",
   "execution_count": 3,
   "metadata": {},
   "outputs": [],
   "source": [
    "import pandas as pd\n",
    "import numpy as np\n",
    "from sklearn.model_selection import train_test_split\n",
    "from sklearn.feature_extraction.text import TfidfVectorizer\n",
    "from sklearn.metrics import classification_report, confusion_matrix\n",
    "import matplotlib.pyplot as plt\n",
    "import seaborn as sns\n",
    "from tensorflow.keras.models import Sequential\n",
    "from tensorflow.keras.layers import Dense, Dropout\n"
   ]
  },
  {
   "cell_type": "code",
   "execution_count": 4,
   "metadata": {},
   "outputs": [],
   "source": [
    "df_with_emojis = pd.read_csv('../datasets/df_with_emojis.csv')\n",
    "df_without_emojis = pd.read_csv('../datasets/df_without_emojis.csv')\n",
    "\n",
    "df_with_emojis = df_with_emojis.dropna()\n",
    "df_without_emojis = df_without_emojis.dropna()"
   ]
  },
  {
   "cell_type": "code",
   "execution_count": 5,
   "metadata": {},
   "outputs": [],
   "source": [
    "X_train_emojis, X_test_emojis, y_train_emojis, y_test_emojis = train_test_split(\n",
    "    df_with_emojis['text'], df_with_emojis['sentiment'], test_size=0.2, random_state=42)\n",
    "\n",
    "X_train_no_emojis, X_test_no_emojis, y_train_no_emojis, y_test_no_emojis = train_test_split(\n",
    "    df_without_emojis['text'], df_without_emojis['sentiment'], test_size=0.2, random_state=42)"
   ]
  },
  {
   "cell_type": "code",
   "execution_count": 6,
   "metadata": {},
   "outputs": [
    {
     "name": "stdout",
     "output_type": "stream",
     "text": [
      "Formato da matriz TF-IDF (treino) - com emojis: (1274444, 5000)\n",
      "Formato da matriz TF-IDF (treino) - sem emojis: (1274420, 5000)\n"
     ]
    }
   ],
   "source": [
    "vectorizer = TfidfVectorizer(max_features=5000) \n",
    "X_train_emojis_vec = vectorizer.fit_transform(X_train_emojis)\n",
    "X_test_emojis_vec = vectorizer.transform(X_test_emojis)\n",
    "X_train_no_emojis_vec = vectorizer.fit_transform(X_train_no_emojis)\n",
    "X_test_no_emojis_vec = vectorizer.transform(X_test_no_emojis)\n",
    "\n",
    "print(f\"Formato da matriz TF-IDF (treino) - com emojis: {X_train_emojis_vec.shape}\")\n",
    "print(f\"Formato da matriz TF-IDF (treino) - sem emojis: {X_train_no_emojis_vec.shape}\")"
   ]
  },
  {
   "cell_type": "code",
   "execution_count": null,
   "metadata": {},
   "outputs": [],
   "source": [
    "def plot_confusion_matrix(y_true, y_pred, title, class_labels):\n",
    "    cm = confusion_matrix(y_true, y_pred)\n",
    "    plt.figure(figsize=(8, 6))\n",
    "    sns.heatmap(cm, annot=True, fmt='d', cmap='Blues', xticklabels=class_labels, yticklabels=class_labels)\n",
    "    plt.title(title)\n",
    "    plt.ylabel('Verdadeiro')\n",
    "    plt.xlabel('Previsto')\n",
    "    plt.show()"
   ]
  },
  {
   "cell_type": "code",
   "execution_count": null,
   "metadata": {},
   "outputs": [
    {
     "name": "stderr",
     "output_type": "stream",
     "text": [
      "/Users/luanathomas/Library/Mobile Documents/com~apple~CloudDocs/A - Random/Projetos em Andamento/T2-MachineLearning/myenv/lib/python3.12/site-packages/keras/src/layers/core/dense.py:87: UserWarning: Do not pass an `input_shape`/`input_dim` argument to a layer. When using Sequential models, prefer using an `Input(shape)` object as the first layer in the model instead.\n",
      "  super().__init__(activity_regularizer=activity_regularizer, **kwargs)\n"
     ]
    }
   ],
   "source": [
    "mlp_emojis = Sequential()\n",
    "mlp_emojis.add(Dense(128, activation='relu', input_shape=(X_train_emojis_vec.shape[1],)))\n",
    "mlp_emojis.add(Dropout(0.5))\n",
    "mlp_emojis.add(Dense(64, activation='relu'))\n",
    "mlp_emojis.add(Dense(1, activation='sigmoid'))\n",
    "\n",
    "mlp_emojis.compile(optimizer='adam', loss='binary_crossentropy', metrics=['accuracy'])\n",
    "\n",
    "history = mlp_emojis.fit(X_train_emojis_vec.toarray(), y_train_emojis, \n",
    "                        epochs=10, batch_size=32, \n",
    "                        validation_split=0.2, verbose=1)\n",
    "\n",
    "y_pred_emojis = (mlp_emojis.predict(X_test_emojis_vec.toarray()) > 0.5).astype(int)\n",
    "\n",
    "print(\"Multilayer Perceptron - Com emojis:\")\n",
    "print(classification_report(y_test_emojis, y_pred_emojis))"
   ]
  },
  {
   "cell_type": "code",
   "execution_count": null,
   "metadata": {},
   "outputs": [],
   "source": [
    "class_labels = np.unique(y_test_emojis)\n",
    "\n",
    "plot_confusion_matrix(y_test_emojis, y_pred_emojis, \"Matriz de Confusão - MLP com emojis \", class_labels)"
   ]
  },
  {
   "cell_type": "code",
   "execution_count": null,
   "metadata": {},
   "outputs": [],
   "source": [
    "mlp_no_emojis = Sequential()\n",
    "mlp_no_emojis.add(Dense(128, activation='relu', input_shape=(X_train_no_emojis_vec.shape[1],)))\n",
    "mlp_no_emojis.add(Dropout(0.5))\n",
    "mlp_no_emojis.add(Dense(64, activation='relu'))\n",
    "mlp_no_emojis.add(Dense(1, activation='sigmoid'))\n",
    "\n",
    "mlp_no_emojis.compile(optimizer='adam', loss='binary_crossentropy', metrics=['accuracy'])\n",
    "\n",
    "history = mlp_no_emojis.fit(X_train_no_emojis_vec.toarray(), y_train_no_emojis, \n",
    "                        epochs=10, batch_size=32, \n",
    "                        validation_split=0.2, verbose=1)\n",
    "\n",
    "y_pred_no_emojis = (mlp_no_emojis.predict(X_test_no_emojis_vec.toarray()) > 0.5).astype(int)\n",
    "\n",
    "print(\"Multilayer Perceptron - Sem emojis:\")\n",
    "print(classification_report(y_test_no_emojis, y_pred_no_emojis))"
   ]
  },
  {
   "cell_type": "code",
   "execution_count": null,
   "metadata": {},
   "outputs": [],
   "source": [
    "class_labels = np.unique(y_test_emojis)\n",
    "\n",
    "plot_confusion_matrix(y_test_emojis, y_pred_emojis, \"Matriz de Confusão - MLP sem emojis \", class_labels)"
   ]
  },
  {
   "cell_type": "code",
   "execution_count": null,
   "metadata": {},
   "outputs": [],
   "source": []
  }
 ],
 "metadata": {
  "kernelspec": {
   "display_name": "myenv",
   "language": "python",
   "name": "python3"
  },
  "language_info": {
   "codemirror_mode": {
    "name": "ipython",
    "version": 3
   },
   "file_extension": ".py",
   "mimetype": "text/x-python",
   "name": "python",
   "nbconvert_exporter": "python",
   "pygments_lexer": "ipython3",
   "version": "3.12.5"
  }
 },
 "nbformat": 4,
 "nbformat_minor": 2
}
